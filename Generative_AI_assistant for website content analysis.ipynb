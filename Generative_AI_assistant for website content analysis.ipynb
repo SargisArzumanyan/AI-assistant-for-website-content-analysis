{
  "nbformat": 4,
  "nbformat_minor": 0,
  "metadata": {
    "colab": {
      "provenance": []
    },
    "kernelspec": {
      "name": "python3",
      "display_name": "Python 3"
    },
    "language_info": {
      "name": "python"
    }
  },
  "cells": [
    {
      "cell_type": "code",
      "source": [
        "!pip install sentence_transformers"
      ],
      "metadata": {
        "colab": {
          "base_uri": "https://localhost:8080/"
        },
        "id": "8CT_u2hWyOeF",
        "outputId": "abf6f8da-5ac2-4a99-aa9a-78831d141226"
      },
      "execution_count": 1,
      "outputs": [
        {
          "output_type": "stream",
          "name": "stdout",
          "text": [
            "Collecting sentence_transformers\n",
            "  Downloading sentence_transformers-2.7.0-py3-none-any.whl (171 kB)\n",
            "\u001b[2K     \u001b[90m━━━━━━━━━━━━━━━━━━━━━━━━━━━━━━━━━━━━━━━━\u001b[0m \u001b[32m171.5/171.5 kB\u001b[0m \u001b[31m2.9 MB/s\u001b[0m eta \u001b[36m0:00:00\u001b[0m\n",
            "\u001b[?25hRequirement already satisfied: transformers<5.0.0,>=4.34.0 in /usr/local/lib/python3.10/dist-packages (from sentence_transformers) (4.40.1)\n",
            "Requirement already satisfied: tqdm in /usr/local/lib/python3.10/dist-packages (from sentence_transformers) (4.66.2)\n",
            "Requirement already satisfied: torch>=1.11.0 in /usr/local/lib/python3.10/dist-packages (from sentence_transformers) (2.2.1+cu121)\n",
            "Requirement already satisfied: numpy in /usr/local/lib/python3.10/dist-packages (from sentence_transformers) (1.25.2)\n",
            "Requirement already satisfied: scikit-learn in /usr/local/lib/python3.10/dist-packages (from sentence_transformers) (1.2.2)\n",
            "Requirement already satisfied: scipy in /usr/local/lib/python3.10/dist-packages (from sentence_transformers) (1.11.4)\n",
            "Requirement already satisfied: huggingface-hub>=0.15.1 in /usr/local/lib/python3.10/dist-packages (from sentence_transformers) (0.20.3)\n",
            "Requirement already satisfied: Pillow in /usr/local/lib/python3.10/dist-packages (from sentence_transformers) (9.4.0)\n",
            "Requirement already satisfied: filelock in /usr/local/lib/python3.10/dist-packages (from huggingface-hub>=0.15.1->sentence_transformers) (3.14.0)\n",
            "Requirement already satisfied: fsspec>=2023.5.0 in /usr/local/lib/python3.10/dist-packages (from huggingface-hub>=0.15.1->sentence_transformers) (2023.6.0)\n",
            "Requirement already satisfied: requests in /usr/local/lib/python3.10/dist-packages (from huggingface-hub>=0.15.1->sentence_transformers) (2.31.0)\n",
            "Requirement already satisfied: pyyaml>=5.1 in /usr/local/lib/python3.10/dist-packages (from huggingface-hub>=0.15.1->sentence_transformers) (6.0.1)\n",
            "Requirement already satisfied: typing-extensions>=3.7.4.3 in /usr/local/lib/python3.10/dist-packages (from huggingface-hub>=0.15.1->sentence_transformers) (4.11.0)\n",
            "Requirement already satisfied: packaging>=20.9 in /usr/local/lib/python3.10/dist-packages (from huggingface-hub>=0.15.1->sentence_transformers) (24.0)\n",
            "Requirement already satisfied: sympy in /usr/local/lib/python3.10/dist-packages (from torch>=1.11.0->sentence_transformers) (1.12)\n",
            "Requirement already satisfied: networkx in /usr/local/lib/python3.10/dist-packages (from torch>=1.11.0->sentence_transformers) (3.3)\n",
            "Requirement already satisfied: jinja2 in /usr/local/lib/python3.10/dist-packages (from torch>=1.11.0->sentence_transformers) (3.1.3)\n",
            "Collecting nvidia-cuda-nvrtc-cu12==12.1.105 (from torch>=1.11.0->sentence_transformers)\n",
            "  Using cached nvidia_cuda_nvrtc_cu12-12.1.105-py3-none-manylinux1_x86_64.whl (23.7 MB)\n",
            "Collecting nvidia-cuda-runtime-cu12==12.1.105 (from torch>=1.11.0->sentence_transformers)\n",
            "  Using cached nvidia_cuda_runtime_cu12-12.1.105-py3-none-manylinux1_x86_64.whl (823 kB)\n",
            "Collecting nvidia-cuda-cupti-cu12==12.1.105 (from torch>=1.11.0->sentence_transformers)\n",
            "  Using cached nvidia_cuda_cupti_cu12-12.1.105-py3-none-manylinux1_x86_64.whl (14.1 MB)\n",
            "Collecting nvidia-cudnn-cu12==8.9.2.26 (from torch>=1.11.0->sentence_transformers)\n",
            "  Using cached nvidia_cudnn_cu12-8.9.2.26-py3-none-manylinux1_x86_64.whl (731.7 MB)\n",
            "Collecting nvidia-cublas-cu12==12.1.3.1 (from torch>=1.11.0->sentence_transformers)\n",
            "  Using cached nvidia_cublas_cu12-12.1.3.1-py3-none-manylinux1_x86_64.whl (410.6 MB)\n",
            "Collecting nvidia-cufft-cu12==11.0.2.54 (from torch>=1.11.0->sentence_transformers)\n",
            "  Using cached nvidia_cufft_cu12-11.0.2.54-py3-none-manylinux1_x86_64.whl (121.6 MB)\n",
            "Collecting nvidia-curand-cu12==10.3.2.106 (from torch>=1.11.0->sentence_transformers)\n",
            "  Using cached nvidia_curand_cu12-10.3.2.106-py3-none-manylinux1_x86_64.whl (56.5 MB)\n",
            "Collecting nvidia-cusolver-cu12==11.4.5.107 (from torch>=1.11.0->sentence_transformers)\n",
            "  Using cached nvidia_cusolver_cu12-11.4.5.107-py3-none-manylinux1_x86_64.whl (124.2 MB)\n",
            "Collecting nvidia-cusparse-cu12==12.1.0.106 (from torch>=1.11.0->sentence_transformers)\n",
            "  Using cached nvidia_cusparse_cu12-12.1.0.106-py3-none-manylinux1_x86_64.whl (196.0 MB)\n",
            "Collecting nvidia-nccl-cu12==2.19.3 (from torch>=1.11.0->sentence_transformers)\n",
            "  Using cached nvidia_nccl_cu12-2.19.3-py3-none-manylinux1_x86_64.whl (166.0 MB)\n",
            "Collecting nvidia-nvtx-cu12==12.1.105 (from torch>=1.11.0->sentence_transformers)\n",
            "  Using cached nvidia_nvtx_cu12-12.1.105-py3-none-manylinux1_x86_64.whl (99 kB)\n",
            "Requirement already satisfied: triton==2.2.0 in /usr/local/lib/python3.10/dist-packages (from torch>=1.11.0->sentence_transformers) (2.2.0)\n",
            "Collecting nvidia-nvjitlink-cu12 (from nvidia-cusolver-cu12==11.4.5.107->torch>=1.11.0->sentence_transformers)\n",
            "  Using cached nvidia_nvjitlink_cu12-12.4.127-py3-none-manylinux2014_x86_64.whl (21.1 MB)\n",
            "Requirement already satisfied: regex!=2019.12.17 in /usr/local/lib/python3.10/dist-packages (from transformers<5.0.0,>=4.34.0->sentence_transformers) (2023.12.25)\n",
            "Requirement already satisfied: tokenizers<0.20,>=0.19 in /usr/local/lib/python3.10/dist-packages (from transformers<5.0.0,>=4.34.0->sentence_transformers) (0.19.1)\n",
            "Requirement already satisfied: safetensors>=0.4.1 in /usr/local/lib/python3.10/dist-packages (from transformers<5.0.0,>=4.34.0->sentence_transformers) (0.4.3)\n",
            "Requirement already satisfied: joblib>=1.1.1 in /usr/local/lib/python3.10/dist-packages (from scikit-learn->sentence_transformers) (1.4.0)\n",
            "Requirement already satisfied: threadpoolctl>=2.0.0 in /usr/local/lib/python3.10/dist-packages (from scikit-learn->sentence_transformers) (3.5.0)\n",
            "Requirement already satisfied: MarkupSafe>=2.0 in /usr/local/lib/python3.10/dist-packages (from jinja2->torch>=1.11.0->sentence_transformers) (2.1.5)\n",
            "Requirement already satisfied: charset-normalizer<4,>=2 in /usr/local/lib/python3.10/dist-packages (from requests->huggingface-hub>=0.15.1->sentence_transformers) (3.3.2)\n",
            "Requirement already satisfied: idna<4,>=2.5 in /usr/local/lib/python3.10/dist-packages (from requests->huggingface-hub>=0.15.1->sentence_transformers) (3.7)\n",
            "Requirement already satisfied: urllib3<3,>=1.21.1 in /usr/local/lib/python3.10/dist-packages (from requests->huggingface-hub>=0.15.1->sentence_transformers) (2.0.7)\n",
            "Requirement already satisfied: certifi>=2017.4.17 in /usr/local/lib/python3.10/dist-packages (from requests->huggingface-hub>=0.15.1->sentence_transformers) (2024.2.2)\n",
            "Requirement already satisfied: mpmath>=0.19 in /usr/local/lib/python3.10/dist-packages (from sympy->torch>=1.11.0->sentence_transformers) (1.3.0)\n",
            "Installing collected packages: nvidia-nvtx-cu12, nvidia-nvjitlink-cu12, nvidia-nccl-cu12, nvidia-curand-cu12, nvidia-cufft-cu12, nvidia-cuda-runtime-cu12, nvidia-cuda-nvrtc-cu12, nvidia-cuda-cupti-cu12, nvidia-cublas-cu12, nvidia-cusparse-cu12, nvidia-cudnn-cu12, nvidia-cusolver-cu12, sentence_transformers\n",
            "Successfully installed nvidia-cublas-cu12-12.1.3.1 nvidia-cuda-cupti-cu12-12.1.105 nvidia-cuda-nvrtc-cu12-12.1.105 nvidia-cuda-runtime-cu12-12.1.105 nvidia-cudnn-cu12-8.9.2.26 nvidia-cufft-cu12-11.0.2.54 nvidia-curand-cu12-10.3.2.106 nvidia-cusolver-cu12-11.4.5.107 nvidia-cusparse-cu12-12.1.0.106 nvidia-nccl-cu12-2.19.3 nvidia-nvjitlink-cu12-12.4.127 nvidia-nvtx-cu12-12.1.105 sentence_transformers-2.7.0\n"
          ]
        }
      ]
    },
    {
      "cell_type": "markdown",
      "source": [
        "# Scraping a website."
      ],
      "metadata": {
        "id": "l-oseguWxptk"
      }
    },
    {
      "cell_type": "code",
      "execution_count": 2,
      "metadata": {
        "id": "vG_qRNXrt293"
      },
      "outputs": [],
      "source": [
        "import requests\n",
        "\n",
        "def get_text(url):\n",
        "      headers = {\n",
        "      'user-agent': 'Mozilla/5.0 (X11; Linux x86_64) AppleWebKit/537.36 (KHTML, like Gecko) Chrome/86.0.4240.111 Safari/537.36',\n",
        "        }\n",
        "      return requests.get(url, headers=headers).text"
      ]
    },
    {
      "cell_type": "code",
      "source": [
        "jina = 'https://r.jina.ai/'\n",
        "my_url = input('Enter a url ')\n",
        "text_1 = get_text(url=jina + my_url)\n",
        "text_1"
      ],
      "metadata": {
        "colab": {
          "base_uri": "https://localhost:8080/",
          "height": 147
        },
        "id": "n5iqmqGzvIj_",
        "outputId": "ac5237be-3b27-4c7c-b168-78d3005f1298"
      },
      "execution_count": 16,
      "outputs": [
        {
          "name": "stdout",
          "output_type": "stream",
          "text": [
            "Enter a url https://deerfield.com/\n"
          ]
        },
        {
          "output_type": "execute_result",
          "data": {
            "text/plain": [
              "'Title: Deerfield\\n\\nURL Source: https://deerfield.com/\\n\\nMarkdown Content:\\n[![Image 1: Deerfield](https://deerfield.com/wp-content/themes/deerfieldwptheme/assets/img/Deerfield_30th-Anniversary_Logo_Black.png)](https://deerfield.com/)\\n\\n![Image 2: About Deerfield](https://deerfield.com/wp-content/uploads/2022/05/cure_lobby_full.jpeg)\\n\\nLaunched in 1994, Deerfield Management Company is an investment firm dedicated to advancing healthcare through information, investment, and philanthropy—all toward the end goal of cures for disease, improved quality of life, and reduced cost of care.\\n\\nRead More\\n\\n![Image 3: ---](https://deerfield.com/wp-content/uploads/2022/05/Investment-scaled.jpeg)\\n\\n##### Investment\\n\\nSupporting companies across the healthcare ecosystem with flexible funding models…\\n\\nRead More\\n\\n![Image 4: ---](https://deerfield.com/wp-content/uploads/2022/05/Film_screenshot.jpeg)\\n\\n##### Information\\n\\nDelivering market research to the Deerfield team, its portfolio companies and other partners.\\n\\nRead More ![Image 5: ---](https://deerfield.com/wp-content/uploads/2022/05/Philanthropy-image-e1650905911122-scaled.jpeg)\\n\\n##### Philanthropy\\n\\nA New York City-based not-for-profit devoted to advancing innovative health care initiatives.\\n\\nRead More\\n\\n![Image 6: ---](https://deerfield.com/wp-content/uploads/2022/05/DF_1008-scaled.jpeg)\\n\\n![Image 7: ---](https://deerfield.com/wp-content/uploads/2022/05/december_infocus_shutterstock_497636569.jpeg)\\n\\n##### Portfolio Companies\\n\\nDeerfield generally maintains a combined portfolio of more than 150 private and public investments across the life science, medical device, diagnostic, digital health and health service industries at all stages of evolution from start-up to mature company.\\n\\nRead More [View Portfolio Companies](https://deerfield.com/?q=portfolio%20companies&sort_field[posts]=title&sort_direction[posts]=asc&view=list&archive=companies)\\n\\n![Image 8: ---](https://deerfield.com/wp-content/uploads/2022/05/55-News_750x400@2x.jpeg)\\n\\n##### Research Collaborations\\n\\nDeerfield partners with leading academic research centers, providing critical funding and expertise to further sustain and accelerate the commercialization of discoveries toward meaningful societal impact by advancing cures for disease.\\n\\nRead More [View Research Collaborations](https://deerfield.com/?q=%20&filters[posts][content_type][]=Research%20Collaborations&sort_field[posts]=sortable_title&sort_direction[posts]=asc&view=list)\\n\\n![Image 9: ---](https://deerfield.com/wp-content/uploads/2022/05/45-Infocus_750x400@2x.jpeg)\\n\\n##### Strategic Partners\\n\\nAs a strategic partner, Deerfield offers capital, scientific expertise, business operating support, and unique access to innovation.\\n\\nRead More\\n\\n![Image 10: ---](https://deerfield.com/wp-content/uploads/2022/05/35-Infocus_750x400@2x.jpeg)\\n\\n##### Deerfield Foundation\\n\\nThe Deerfield Foundation is a New York City-based not-for-profit organization whose mission is to improve health, accelerate innovation and promote human equity.\\n\\nRead More [Meet the Foundation Team](https://deerfield.com/?q=%22team-archive%22&filters%5Bposts%5D%5Brole%5D%5B%5D=Foundation&sort_field%5Bposts%5D=sortable_title&sort_direction%5Bposts%5D=asc&view=list&archive=team)\\n\\n![Image 11: ---](https://deerfield.com/wp-content/uploads/2022/05/Cure-Buildling.png)\\n\\n##### Cure Campus\\n\\nCure is a 12-story innovations campus in New York City that intends to bring together innovators from academia, government, industry, and the not-for-profit sectors to advance human health and accelerate the fight against disease.\\n\\nRead More [Join the Cure Email List](https://cure.345pas.com/join-email-list/)\\n\\n##### Cure Programming\\n\\nCure has a series of expert lectures intended to advance thought in healthcare, management, innovation, policy, and other relevant subjects. This fosters growth and education for those at Cure and its guests.\\n\\n[Events at the Cure](https://cure.345pas.com/events-at-the-cure/)\\n\\n[![Image 12: Deerfield](https://deerfield.com/wp-content/themes/deerfieldwptheme/assets/img/Deerfield_30th-Anniversary_Logo_White.png)](https://deerfield.com/)\\n\\n![Image 13: a black and white image of the letter i on a black background](https://deerfield.com/wp-content/themes/deerfieldwptheme/assets/img//icon__category--info.png)\\n\\nSelect a category or search to explore the network\\n\\n![Image 14: Deerfield](https://deerfield.com/wp-content/themes/deerfieldwptheme/assets/img/Deerfield_30th-Anniversary_Logo_White.png)\\n\\nSkip Intro\\n'"
            ],
            "application/vnd.google.colaboratory.intrinsic+json": {
              "type": "string"
            }
          },
          "metadata": {},
          "execution_count": 16
        }
      ]
    },
    {
      "cell_type": "code",
      "source": [
        "len(text_1)"
      ],
      "metadata": {
        "colab": {
          "base_uri": "https://localhost:8080/"
        },
        "id": "4e_HAl9DjKIL",
        "outputId": "c66485fb-2302-42ff-c73a-cafe606d8ce4"
      },
      "execution_count": 17,
      "outputs": [
        {
          "output_type": "execute_result",
          "data": {
            "text/plain": [
              "4474"
            ]
          },
          "metadata": {},
          "execution_count": 17
        }
      ]
    },
    {
      "cell_type": "markdown",
      "source": [
        "# Building a database."
      ],
      "metadata": {
        "id": "q9uDQFFPx-IW"
      }
    },
    {
      "cell_type": "code",
      "source": [
        "database = ['https://greylock.com/', 'https://a16z.com/', 'https://www.sequoiacap.com/', 'https://www.indexventures.com/',\n",
        "            'https://www.kleinerperkins.com/', 'https://lsvp.com/', 'https://matrix.vc/', 'https://www.500.co/',\n",
        "            'https://www.sparkcapital.com/']\n",
        "\n",
        "import pickle\n",
        "\n",
        "# with open ('database', 'rb') as fp:   # if exists\n",
        "#    database = pickle.load(fp)"
      ],
      "metadata": {
        "id": "DIPa4Bprvaop"
      },
      "execution_count": 5,
      "outputs": []
    },
    {
      "cell_type": "code",
      "source": [
        "texts = []\n",
        "for x in database:\n",
        "      text = get_text(url=jina + x)\n",
        "      texts.append(text)\n",
        "len(texts)"
      ],
      "metadata": {
        "colab": {
          "base_uri": "https://localhost:8080/"
        },
        "id": "gRbDSa45zYFC",
        "outputId": "13efe025-738b-4ffd-f025-2954ff314acd"
      },
      "execution_count": 18,
      "outputs": [
        {
          "output_type": "execute_result",
          "data": {
            "text/plain": [
              "10"
            ]
          },
          "metadata": {},
          "execution_count": 18
        }
      ]
    },
    {
      "cell_type": "markdown",
      "source": [
        "# Building our question answering model."
      ],
      "metadata": {
        "id": "7fIeLt0zyDtT"
      }
    },
    {
      "cell_type": "code",
      "source": [
        "from transformers import pipeline"
      ],
      "metadata": {
        "id": "XHpHjuKix0fR"
      },
      "execution_count": 19,
      "outputs": []
    },
    {
      "cell_type": "code",
      "source": [
        "my_questions = [\"What is the name of this Venture Capital firm?\", \"Who are the contacts of this company?\",\n",
        "                \"In which type of industries this firm invests in?\", \"In which investment rounds this firm participates or leads?\"]"
      ],
      "metadata": {
        "id": "Pn-ICZnPx31i"
      },
      "execution_count": 20,
      "outputs": []
    },
    {
      "cell_type": "code",
      "source": [
        "# download model\n",
        "qa_model = pipeline(\"question-answering\")\n",
        "\n",
        "# test model\n",
        "for i in my_questions:\n",
        "      qa_response = qa_model(question = i, context = text_1)\n",
        "      print( '\\n ', i, qa_response)"
      ],
      "metadata": {
        "id": "aocUT3rnx6p-",
        "colab": {
          "base_uri": "https://localhost:8080/"
        },
        "outputId": "435da8a0-c532-4ad8-8145-cb96d5f67ea4"
      },
      "execution_count": 21,
      "outputs": [
        {
          "output_type": "stream",
          "name": "stderr",
          "text": [
            "No model was supplied, defaulted to distilbert/distilbert-base-cased-distilled-squad and revision 626af31 (https://huggingface.co/distilbert/distilbert-base-cased-distilled-squad).\n",
            "Using a pipeline without specifying a model name and revision in production is not recommended.\n"
          ]
        },
        {
          "output_type": "stream",
          "name": "stdout",
          "text": [
            "\n",
            "  What is the name of this Venture Capital firm? {'score': 0.702899158000946, 'start': 350, 'end': 378, 'answer': 'Deerfield Management Company'}\n",
            "\n",
            "  Who are the contacts of this company? {'score': 0.04564114287495613, 'start': 939, 'end': 997, 'answer': 'Deerfield team, its portfolio companies and other partners'}\n",
            "\n",
            "  In which type of industries this firm invests in? {'score': 0.4169709384441376, 'start': 1585, 'end': 1660, 'answer': 'life science, medical device, diagnostic, digital health and health service'}\n",
            "\n",
            "  In which investment rounds this firm participates or leads? {'score': 0.17612609267234802, 'start': 4276, 'end': 4326, 'answer': 'Select a category or search to explore the network'}\n"
          ]
        }
      ]
    },
    {
      "cell_type": "markdown",
      "source": [
        "# Building a similary analysis model."
      ],
      "metadata": {
        "id": "SCx1wnXbyJEL"
      }
    },
    {
      "cell_type": "code",
      "source": [
        "from sentence_transformers import SentenceTransformer\n",
        "from sklearn.metrics.pairwise import cosine_similarity\n",
        "\n",
        "d = {}\n",
        "# Load pre-trained BERT model for sentence embeddings\n",
        "model = SentenceTransformer('all-MiniLM-L6-v2')\n",
        "\n",
        "for i in range(len(texts)):\n",
        "# Sample sentences\n",
        "     sentences = [text_1, texts[i]]\n",
        "\n",
        "# Generate embeddings\n",
        "     embeddings = model.encode(sentences)\n",
        "\n",
        "# Calculate cosine similarity\n",
        "     similarity = cosine_similarity([embeddings[0]], [embeddings[1]])\n",
        "     print(\"Cosine similarity (BERT): with\", database[i], 'is', similarity[0][0])\n",
        "     d.update({database[i]: similarity[0][0]})"
      ],
      "metadata": {
        "id": "hpOTnXuMyAxA",
        "colab": {
          "base_uri": "https://localhost:8080/"
        },
        "outputId": "12eeab6b-83a3-4432-8200-ed2430d4c7f7"
      },
      "execution_count": 22,
      "outputs": [
        {
          "output_type": "stream",
          "name": "stdout",
          "text": [
            "Cosine similarity (BERT): with https://greylock.com/ is 0.48100775\n",
            "Cosine similarity (BERT): with https://a16z.com/ is 0.51767385\n",
            "Cosine similarity (BERT): with https://www.sequoiacap.com/ is 0.3396095\n",
            "Cosine similarity (BERT): with https://www.indexventures.com/ is 0.39028203\n",
            "Cosine similarity (BERT): with https://www.kleinerperkins.com/ is 0.33101338\n",
            "Cosine similarity (BERT): with https://lsvp.com/ is 0.11507377\n",
            "Cosine similarity (BERT): with https://matrix.vc/ is 0.25777662\n",
            "Cosine similarity (BERT): with https://www.500.co/ is 0.34620687\n",
            "Cosine similarity (BERT): with https://www.sparkcapital.com/ is 0.29433692\n",
            "Cosine similarity (BERT): with https://www.nea.com/ is 0.40399498\n"
          ]
        }
      ]
    },
    {
      "cell_type": "code",
      "source": [
        "d_sorted = dict(sorted(d.items(), key=lambda item: item[1]))\n",
        "d_sorted"
      ],
      "metadata": {
        "colab": {
          "base_uri": "https://localhost:8080/"
        },
        "id": "_Q95fQc0ps28",
        "outputId": "ec1c45fb-4cff-4fda-d2c9-0d305edcd3f0"
      },
      "execution_count": 23,
      "outputs": [
        {
          "output_type": "execute_result",
          "data": {
            "text/plain": [
              "{'https://lsvp.com/': 0.11507377,\n",
              " 'https://matrix.vc/': 0.25777662,\n",
              " 'https://www.sparkcapital.com/': 0.29433692,\n",
              " 'https://www.kleinerperkins.com/': 0.33101338,\n",
              " 'https://www.sequoiacap.com/': 0.3396095,\n",
              " 'https://www.500.co/': 0.34620687,\n",
              " 'https://www.indexventures.com/': 0.39028203,\n",
              " 'https://www.nea.com/': 0.40399498,\n",
              " 'https://greylock.com/': 0.48100775,\n",
              " 'https://a16z.com/': 0.51767385}"
            ]
          },
          "metadata": {},
          "execution_count": 23
        }
      ]
    },
    {
      "cell_type": "code",
      "source": [
        "import itertools\n",
        "\n",
        "top_3 = dict(list(d_sorted.items())[-1:-4:-1])\n",
        "top_3"
      ],
      "metadata": {
        "colab": {
          "base_uri": "https://localhost:8080/"
        },
        "id": "GvtWrwJ9p2C1",
        "outputId": "398c1aa2-f12d-4c55-a372-efe0d34868a3"
      },
      "execution_count": 24,
      "outputs": [
        {
          "output_type": "execute_result",
          "data": {
            "text/plain": [
              "{'https://a16z.com/': 0.51767385,\n",
              " 'https://greylock.com/': 0.48100775,\n",
              " 'https://www.nea.com/': 0.40399498}"
            ]
          },
          "metadata": {},
          "execution_count": 24
        }
      ]
    },
    {
      "cell_type": "markdown",
      "source": [
        "# Adding the new website's url and it's scraped text into our database."
      ],
      "metadata": {
        "id": "wZwauVR0yuyS"
      }
    },
    {
      "cell_type": "code",
      "source": [
        "database.append(my_url)\n",
        "texts.append(text_1)"
      ],
      "metadata": {
        "id": "AdkpgtI8yPAj"
      },
      "execution_count": 25,
      "outputs": []
    },
    {
      "cell_type": "code",
      "source": [
        "database"
      ],
      "metadata": {
        "colab": {
          "base_uri": "https://localhost:8080/"
        },
        "id": "VaYi90knydFl",
        "outputId": "e1d3e342-cb5d-4f34-bcee-9a757f1fd9a7"
      },
      "execution_count": 26,
      "outputs": [
        {
          "output_type": "execute_result",
          "data": {
            "text/plain": [
              "['https://greylock.com/',\n",
              " 'https://a16z.com/',\n",
              " 'https://www.sequoiacap.com/',\n",
              " 'https://www.indexventures.com/',\n",
              " 'https://www.kleinerperkins.com/',\n",
              " 'https://lsvp.com/',\n",
              " 'https://matrix.vc/',\n",
              " 'https://www.500.co/',\n",
              " 'https://www.sparkcapital.com/',\n",
              " 'https://www.nea.com/',\n",
              " 'https://deerfield.com/']"
            ]
          },
          "metadata": {},
          "execution_count": 26
        }
      ]
    },
    {
      "cell_type": "code",
      "source": [
        "len(texts)"
      ],
      "metadata": {
        "colab": {
          "base_uri": "https://localhost:8080/"
        },
        "id": "Be0Nl3MUyiON",
        "outputId": "0d5e53b4-18dd-4d7e-b3e7-22fd35e17933"
      },
      "execution_count": 27,
      "outputs": [
        {
          "output_type": "execute_result",
          "data": {
            "text/plain": [
              "11"
            ]
          },
          "metadata": {},
          "execution_count": 27
        }
      ]
    },
    {
      "cell_type": "code",
      "source": [
        "with open('database', 'wb') as fp:\n",
        "    pickle.dump(database, fp)"
      ],
      "metadata": {
        "id": "XgwixLD-l3HK"
      },
      "execution_count": 28,
      "outputs": []
    },
    {
      "cell_type": "code",
      "source": [
        "with open ('database', 'rb') as fp:\n",
        "    database = pickle.load(fp)"
      ],
      "metadata": {
        "id": "lKWr7C27mOMi"
      },
      "execution_count": 30,
      "outputs": []
    },
    {
      "cell_type": "code",
      "source": [],
      "metadata": {
        "id": "irJZ6rPfo7uy"
      },
      "execution_count": 31,
      "outputs": []
    }
  ]
}